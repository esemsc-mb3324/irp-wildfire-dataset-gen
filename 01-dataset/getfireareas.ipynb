{
 "cells": [
  {
   "cell_type": "markdown",
   "id": "d46a0ae8",
   "metadata": {},
   "source": [
    "Note: input_tracking goes up to 20218, so last 10000 would start at 10218 which has value   1845.0"
   ]
  },
  {
   "cell_type": "code",
   "execution_count": 12,
   "id": "5989d95f",
   "metadata": {},
   "outputs": [],
   "source": [
    "import numpy as np\n",
    "import re\n",
    "import sys\n",
    "import os\n",
    "import pandas as pd\n",
    "\n",
    "# from fireareas10000.txt, get all the lines and add them to the end of input_tracking.txt in ../01-dataset-fn-sub15/\n",
    "# the first line of input_tracking.txt is a header, so we need to skip it\n",
    "input_tracking_path = '../01-dataset-fn-sub15/input_tracking.txt'\n",
    "fireareas_path = '../fireareas10000.txt'\n",
    "\n",
    "# read the input_tracking.txt file\n",
    "with open(input_tracking_path, 'r') as f:\n",
    "    lines = f.readlines()\n",
    "# read the fireareas10000.txt file\n",
    "with open(fireareas_path, 'r') as f:\n",
    "    fireareas_lines = f.readlines()\n",
    "\n",
    "# make sure there are the same number of lines in both files\n",
    "if len(lines) != len(fireareas_lines)+1:\n",
    "    print(f\"Error: {len(lines)} lines in input_tracking.txt, {len(fireareas_lines)} lines in fireareas10000.txt\")\n"
   ]
  },
  {
   "cell_type": "code",
   "execution_count": 14,
   "id": "f93650d5",
   "metadata": {},
   "outputs": [
    {
     "data": {
      "text/plain": [
       "18"
      ]
     },
     "execution_count": 14,
     "metadata": {},
     "output_type": "execute_result"
    }
   ],
   "source": [
    "# count the comma separated values in this string 10000,489.4,-1781.1,14,38,61,15.5,9.1,4.8,7.6,10.5,81,4,2,22,79.4,80.4,165.9\n",
    "def count_comma_separated_values(s):\n",
    "    return len(re.findall(r',', s)) + 1\n",
    "\n",
    "count_comma_separated_values(lines[0])  # should be 18, the number of columns in the header\n",
    "count_comma_separated_values(lines[10000])  # should be 1, the fire area column"
   ]
  },
  {
   "cell_type": "code",
   "execution_count": 9,
   "id": "3b6f6519",
   "metadata": {},
   "outputs": [],
   "source": [
    "# save the fire area lines to the end of each line in input_tracking.txt, but skip the first line, the header already has the firearea column\n",
    "with open(input_tracking_path, 'w') as f:\n",
    "    for i, line in enumerate(lines):\n",
    "        if i == 0:\n",
    "            f.write(line)\n",
    "        else:\n",
    "            # get the fire area from the fireareas_lines, which is one less than the current line number\n",
    "            fire_area = fireareas_lines[i-1].strip()\n",
    "            # write the line with the fire area appended\n",
    "            f.write(line.strip() + ',' + fire_area + '\\n')"
   ]
  },
  {
   "cell_type": "code",
   "execution_count": null,
   "id": "22f8f83f",
   "metadata": {},
   "outputs": [],
   "source": [
    "# get lines 1024 onward from input_tracking.txt\n",
    "import numpy as np\n",
    "import re\n",
    "import sys\n",
    "import os\n",
    "import pandas as pd\n",
    "\n",
    "def get_fire_areas_for_10000():\n",
    "    # Read the input tracking file\n",
    "    input_file = 'input_tracking.txt'\n",
    "    if not os.path.exists(input_file):\n",
    "        print(f\"Error: {input_file} does not exist.\")\n",
    "        sys.exit(1)\n",
    "\n",
    "    df = pd.read_csv(input_file, sep='\\t', header=None, skiprows=1023)\n",
    "    \n",
    "    # Check if the DataFrame is empty\n",
    "    if df.empty:\n",
    "        print(\"No data found in the input tracking file after line 1024.\")\n",
    "        return []\n",
    "\n",
    "    # Extract the fire area values from the DataFrame\n",
    "    fire_areas = df.iloc[:, 0].values.tolist()\n",
    "    \n",
    "    return fire_areas\n",
    "\n",
    "# add fire areas to ../01-dataset-fn-sub15/input_tracking.txt at the end of each line\n",
    "# where the lines are structured like so: run,xign,yign,fuel,slp,asp,ws,wd,m1,m10,m100,cc,ch,cbh,cbd,lhc,lwc,firearea\n",
    "def add_area_to_end_of_lines(fire_areas):\n",
    "    input_file = 'input_tracking.txt'\n",
    "    if not os.path.exists(input_file):\n",
    "        print(f\"Error: {input_file} does not exist.\")\n",
    "        sys.exit(1)\n",
    "\n",
    "    with open(input_file, 'r') as f:\n",
    "        lines = f.readlines()\n",
    "\n",
    "    # Check if the number of fire areas matches the number of lines\n",
    "    if len(fire_areas) != len(lines) - 1:  # Exclude header line\n",
    "        print(f\"Error: Expected {len(lines) - 1} fire areas, but got {len(fire_areas)}.\")\n",
    "        print(\"Error: The number of fire areas does not match the number of data lines.\")\n",
    "        return\n",
    "\n",
    "    # Add fire area to each line\n",
    "    with open(input_file, 'w') as f:\n",
    "        for i, line in enumerate(lines):\n",
    "            if i == 0:\n",
    "                continue\n",
    "            else:\n",
    "                f.write(line.strip() + f',{fire_areas[i-1]}\\n')\n",
    "\n",
    "get_fire_areas_for_10000()\n",
    "fire_areas = get_fire_areas_for_10000()\n",
    "add_area_to_end_of_lines(fire_areas)\n"
   ]
  }
 ],
 "metadata": {
  "kernelspec": {
   "display_name": "mpm2024",
   "language": "python",
   "name": "python3"
  },
  "language_info": {
   "codemirror_mode": {
    "name": "ipython",
    "version": 3
   },
   "file_extension": ".py",
   "mimetype": "text/x-python",
   "name": "python",
   "nbconvert_exporter": "python",
   "pygments_lexer": "ipython3",
   "version": "3.12.2"
  }
 },
 "nbformat": 4,
 "nbformat_minor": 5
}
